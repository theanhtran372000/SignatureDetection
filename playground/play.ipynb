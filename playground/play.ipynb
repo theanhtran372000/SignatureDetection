{
 "cells": [
  {
   "attachments": {},
   "cell_type": "markdown",
   "metadata": {},
   "source": [
    "# Document"
   ]
  },
  {
   "attachments": {},
   "cell_type": "markdown",
   "metadata": {},
   "source": [
    "### 1. Convert Docs to PDF"
   ]
  },
  {
   "attachments": {},
   "cell_type": "markdown",
   "metadata": {},
   "source": [
    "**Convert .doc to .docx**"
   ]
  },
  {
   "cell_type": "code",
   "execution_count": 121,
   "metadata": {},
   "outputs": [],
   "source": [
    "from glob import glob\n",
    "import re\n",
    "import os\n",
    "import win32com.client as win32\n",
    "from win32com.client import constants\n",
    "\n",
    "def save_as_docx(path):\n",
    "    # Opening MS Word\n",
    "    word = win32.gencache.EnsureDispatch('Word.Application')\n",
    "    doc = word.Documents.Open(path)\n",
    "    doc.Activate ()\n",
    "\n",
    "    # Rename path with .docx\n",
    "    new_file_abs = os.path.abspath(path)\n",
    "    new_file_abs = re.sub(r'\\.\\w+$', '.docx', new_file_abs)\n",
    "\n",
    "    # Save and Close\n",
    "    word.ActiveDocument.SaveAs(\n",
    "        new_file_abs, FileFormat=constants.wdFormatXMLDocument\n",
    "    )\n",
    "    doc.Close(False)"
   ]
  },
  {
   "cell_type": "code",
   "execution_count": 123,
   "metadata": {},
   "outputs": [],
   "source": [
    "save_as_docx('D:\\Workplaces\\Python\\ComputerVision\\PdfAutoSign\\docs\\To trinh test VBNB 2 PB trinh xin phe duyet 1 LD.doc')"
   ]
  },
  {
   "attachments": {},
   "cell_type": "markdown",
   "metadata": {},
   "source": [
    "**Delete redundant words**"
   ]
  },
  {
   "cell_type": "code",
   "execution_count": 127,
   "metadata": {},
   "outputs": [],
   "source": [
    "import re\n",
    "from docx import Document\n",
    "\n",
    "def docx_replace_regex(doc_obj, regex , replace, a=False):\n",
    "\n",
    "    for p in doc_obj.paragraphs:\n",
    "        if regex.search(p.text):\n",
    "            text = regex.sub(replace, p.text)\n",
    "            p.text = text\n",
    "\n",
    "    for table in doc_obj.tables:\n",
    "        for row in table.rows:\n",
    "            for cell in row.cells:\n",
    "                docx_replace_regex(cell, regex , replace, True)"
   ]
  },
  {
   "cell_type": "code",
   "execution_count": 48,
   "metadata": {},
   "outputs": [],
   "source": [
    "filename = \"D:\\Workplaces\\Python\\ComputerVision\\PdfAutoSign\\docs\\Cong van test VBNB giua 2 PB_LMH.docx\"\n",
    "doc = Document(filename)\n",
    "\n",
    "s1 = r\"Số:.{0,20}/\\w{2,10}\"\n",
    "regex1 = re.compile(s1)\n",
    "replace1 = \" \" * 10 + '\\n' + \" \" * 10\n",
    "docx_replace_regex(doc, regex1 , replace1)\n",
    "\n",
    "s2 = r\"Hà Nội.{0,10}ngày.{0,10}tháng.{0,10}năm\"\n",
    "regex2 = re.compile(s2)\n",
    "replace2 = \" \" * 10 + '\\n' + \" \" * 10\n",
    "docx_replace_regex(doc, regex2 , replace2)\n",
    "\n",
    "doc.save('file.docx')"
   ]
  },
  {
   "attachments": {},
   "cell_type": "markdown",
   "metadata": {},
   "source": [
    "**Convert to PDF**"
   ]
  },
  {
   "cell_type": "code",
   "execution_count": 133,
   "metadata": {},
   "outputs": [
    {
     "name": "stderr",
     "output_type": "stream",
     "text": [
      "\n",
      "\n",
      "\n",
      "\n",
      "\u001b[A\u001b[A\u001b[A\u001b[A\n",
      "\n",
      "\n",
      "\n",
      "100%|██████████| 1/1 [00:00<00:00,  1.26it/s]\n"
     ]
    }
   ],
   "source": [
    "from docx2pdf import convert\n",
    "convert('D:\\Workplaces\\Python\\ComputerVision\\PdfAutoSign\\docs\\To trinh test VBNB 2 PB trinh xin phe duyet 1 LD.docx', 'pdfs/result2.pdf')"
   ]
  },
  {
   "attachments": {},
   "cell_type": "markdown",
   "metadata": {},
   "source": [
    "**Find word coordinate**"
   ]
  },
  {
   "cell_type": "code",
   "execution_count": 103,
   "metadata": {},
   "outputs": [],
   "source": [
    "from pdfminer.layout import LAParams, LTTextBox\n",
    "from pdfminer.pdfpage import PDFPage\n",
    "from pdfminer.pdfinterp import PDFResourceManager\n",
    "from pdfminer.pdfinterp import PDFPageInterpreter\n",
    "from pdfminer.converter import PDFPageAggregator\n",
    "\n",
    "def find_coordinates(file_path, _text):\n",
    "    # Open file\n",
    "    fp = open(file_path, 'rb')\n",
    "    \n",
    "    # Init PDF reader\n",
    "    rsrcmgr = PDFResourceManager()\n",
    "    laparams = LAParams()\n",
    "    device = PDFPageAggregator(rsrcmgr, laparams=laparams)\n",
    "    interpreter = PDFPageInterpreter(rsrcmgr, device)\n",
    "    pages = PDFPage.get_pages(fp)\n",
    "\n",
    "    # Loop through pages\n",
    "    for i, page in enumerate(pages):\n",
    "        print('Processing page: {}'.format(i))\n",
    "        interpreter.process_page(page)\n",
    "        layout = device.get_result()\n",
    "        \n",
    "        for lobj in layout:\n",
    "            if isinstance(lobj, LTTextBox):\n",
    "                coords, text = lobj.bbox[:4], lobj.get_text()\n",
    "                if _text in text:\n",
    "                    print('Found at page %d %r: %s' % (i, coords, text))\n",
    "                    return i, coords, text\n",
    "                \n",
    "    return None, None, None                "
   ]
  },
  {
   "cell_type": "code",
   "execution_count": 134,
   "metadata": {},
   "outputs": [
    {
     "name": "stdout",
     "output_type": "stream",
     "text": [
      "Processing page: 0\n",
      "Found at page 0 (212.09, 320.17064000000005, 351.07, 331.96424): PGS.TS Lê Minh Hoàng \n",
      "\n"
     ]
    }
   ],
   "source": [
    "page_num, coords, text = find_coordinates('pdfs/result2.pdf', 'Lê Minh Hoàng')"
   ]
  },
  {
   "cell_type": "code",
   "execution_count": 135,
   "metadata": {},
   "outputs": [],
   "source": [
    "import fitz\n",
    "\n",
    "def draw_rect(file_path, page_num, coords):\n",
    "    doc = fitz.open(file_path)\n",
    "    page = doc[page_num]\n",
    "    \n",
    "    page.draw_rect(\n",
    "        [\n",
    "            coords[2], page.mediabox[3] - coords[3],   # top-right\n",
    "            coords[2] + 100, page.mediabox[3] - coords[3] + 100    # bottom-right\n",
    "        ],  \n",
    "        color = (0, 1, 0), \n",
    "        width = 2\n",
    "    )\n",
    "    \n",
    "    # Save pdf\n",
    "    doc.save('result.pdf')"
   ]
  },
  {
   "cell_type": "code",
   "execution_count": 137,
   "metadata": {},
   "outputs": [
    {
     "name": "stdout",
     "output_type": "stream",
     "text": [
      "Rect(0.0, 0.0, 595.32, 841.92)\n"
     ]
    }
   ],
   "source": [
    "draw_rect('pdfs/result2.pdf', page_num, coords)"
   ]
  },
  {
   "cell_type": "code",
   "execution_count": 61,
   "metadata": {},
   "outputs": [],
   "source": [
    "def small_sign(file, text):\n",
    "    fp = open(file, 'rb')\n",
    "\n",
    "    rsrcmgr = PDFResourceManager()\n",
    "    laparams = LAParams()\n",
    "    device = PDFPageAggregator(rsrcmgr, laparams=laparams)\n",
    "    interpreter = PDFPageInterpreter(rsrcmgr, device)\n",
    "    pages = PDFPage.get_pages(fp)\n",
    "\n",
    "    for (i, page) in enumerate(pages):\n",
    "        interpreter.process_page(page)\n",
    "        layout = device.get_result()\n",
    "        for lobj in layout:\n",
    "            if isinstance(lobj, LTTextBox) and text in lobj.get_text():\n",
    "                page_num = i\n",
    "\n",
    "                for line in lobj:\n",
    "                    if text in line.get_text():\n",
    "                        x0, y0_orig, x1, y1_orig = line.bbox[0], line.bbox[1], line.bbox[2], line.bbox[3]\n",
    "                        text = line.get_text()\n",
    "                        draw_rect(file, x1, y1_orig, page_num)\n",
    "                        print('%r: %s' % ((x0, y1_orig, x1, y0_orig), text))\n",
    "    fp.close()"
   ]
  },
  {
   "cell_type": "markdown",
   "metadata": {},
   "source": []
  }
 ],
 "metadata": {
  "kernelspec": {
   "display_name": "venv",
   "language": "python",
   "name": "python3"
  },
  "language_info": {
   "name": "python",
   "version": "3.10.5 (tags/v3.10.5:f377153, Jun  6 2022, 16:14:13) [MSC v.1929 64 bit (AMD64)]"
  },
  "orig_nbformat": 4,
  "vscode": {
   "interpreter": {
    "hash": "297ff5c097f56b411244d477cd2a36d626f3f7ca45f5f1e50b2ae6bc4e85b6a8"
   }
  }
 },
 "nbformat": 4,
 "nbformat_minor": 2
}
